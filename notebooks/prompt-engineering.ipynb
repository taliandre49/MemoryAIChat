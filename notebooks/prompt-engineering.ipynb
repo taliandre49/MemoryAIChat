{
 "cells": [
  {
   "cell_type": "code",
   "execution_count": 16,
   "metadata": {},
   "outputs": [],
   "source": [
    "import openai\n",
    "from openai import OpenAI\n",
    "import json\n",
    "import os\n",
    "from os import environ\n",
    "import os\n",
    "from dotenv import load_dotenv, find_dotenv\n",
    "\n",
    "dotenv_path = find_dotenv()\n",
    "load_dotenv(dotenv_path)\n",
    "OpenAI_API_KEY = os.getenv(\"OpenAI_APIKEY\")\n",
    "\n"
   ]
  },
  {
   "cell_type": "code",
   "execution_count": null,
   "metadata": {},
   "outputs": [],
   "source": []
  },
  {
   "cell_type": "code",
   "execution_count": null,
   "metadata": {},
   "outputs": [
    {
     "name": "stdout",
     "output_type": "stream",
     "text": [
      "[{'key1': 'this is a string!', 'key2': ['a', 'list', 'of', 'strings']}, {'key1': 'this is another string!', 'key2': ['another', 'list', 'of', 'strings']}]\n",
      "List metadata detected. Skipping.Metadata values for Chroma must be str, int, float or bool.\n",
      "filtered\n",
      "[{'key1': 'this is another string!'}]\n"
     ]
    },
    {
     "ename": "AssertionError",
     "evalue": "",
     "output_type": "error",
     "traceback": [
      "\u001b[0;31m---------------------------------------------------------------------------\u001b[0m",
      "\u001b[0;31mAssertionError\u001b[0m                            Traceback (most recent call last)",
      "Cell \u001b[0;32mIn[44], line 83\u001b[0m\n\u001b[1;32m     78\u001b[0m     \u001b[38;5;28;01massert\u001b[39;00m filtered_metadata \u001b[38;5;241m==\u001b[39m [\n\u001b[1;32m     79\u001b[0m         {\u001b[38;5;124m\"\u001b[39m\u001b[38;5;124mkey1\u001b[39m\u001b[38;5;124m\"\u001b[39m: \u001b[38;5;124m\"\u001b[39m\u001b[38;5;124mthis is a string!\u001b[39m\u001b[38;5;124m\"\u001b[39m},\n\u001b[1;32m     80\u001b[0m         {\u001b[38;5;124m\"\u001b[39m\u001b[38;5;124mkey1\u001b[39m\u001b[38;5;124m\"\u001b[39m: \u001b[38;5;124m\"\u001b[39m\u001b[38;5;124mthis is another string!\u001b[39m\u001b[38;5;124m\"\u001b[39m},\n\u001b[1;32m     81\u001b[0m     ]\n\u001b[1;32m     82\u001b[0m     \u001b[38;5;28;01massert\u001b[39;00m \u001b[38;5;124m\"\u001b[39m\u001b[38;5;124mList metadata detected. Skipping.\u001b[39m\u001b[38;5;124m\"\u001b[39m\n\u001b[0;32m---> 83\u001b[0m \u001b[43mtest_filter_list_metadata\u001b[49m\u001b[43m(\u001b[49m\u001b[43m)\u001b[49m\n",
      "Cell \u001b[0;32mIn[44], line 78\u001b[0m, in \u001b[0;36mtest_filter_list_metadata\u001b[0;34m()\u001b[0m\n\u001b[1;32m     76\u001b[0m \u001b[38;5;28mprint\u001b[39m(\u001b[38;5;124m'\u001b[39m\u001b[38;5;124mfiltered\u001b[39m\u001b[38;5;124m'\u001b[39m)\n\u001b[1;32m     77\u001b[0m \u001b[38;5;28mprint\u001b[39m(filtered_metadata)\n\u001b[0;32m---> 78\u001b[0m \u001b[38;5;28;01massert\u001b[39;00m filtered_metadata \u001b[38;5;241m==\u001b[39m [\n\u001b[1;32m     79\u001b[0m     {\u001b[38;5;124m\"\u001b[39m\u001b[38;5;124mkey1\u001b[39m\u001b[38;5;124m\"\u001b[39m: \u001b[38;5;124m\"\u001b[39m\u001b[38;5;124mthis is a string!\u001b[39m\u001b[38;5;124m\"\u001b[39m},\n\u001b[1;32m     80\u001b[0m     {\u001b[38;5;124m\"\u001b[39m\u001b[38;5;124mkey1\u001b[39m\u001b[38;5;124m\"\u001b[39m: \u001b[38;5;124m\"\u001b[39m\u001b[38;5;124mthis is another string!\u001b[39m\u001b[38;5;124m\"\u001b[39m},\n\u001b[1;32m     81\u001b[0m ]\n\u001b[1;32m     82\u001b[0m \u001b[38;5;28;01massert\u001b[39;00m \u001b[38;5;124m\"\u001b[39m\u001b[38;5;124mList metadata detected. Skipping.\u001b[39m\u001b[38;5;124m\"\u001b[39m\n",
      "\u001b[0;31mAssertionError\u001b[0m: "
     ]
    }
   ],
   "source": [
    "\n",
    "def delete(self, ids: [list[str]] = None, **kwargs: any) -> None:\n",
    "    \"\"\"Delete by vector IDs.\n",
    "    Args:\n",
    "        ids: List of ids to delete.\n",
    "    \"\"\"\n",
    "    self._collection.delete(ids=ids)\n",
    "\n",
    "\n",
    "def _filter_list_metadata(metadatas: list[dict]) -> list[dict]:\n",
    "    \"\"\"Filters out list metadata because it is not supported by ChromaDB.\"\"\"\n",
    "    warned_about_list = False\n",
    "    filtered_metadatas = []\n",
    "    print(metadatas)\n",
    "    for metadata in metadatas:\n",
    "        filtered_metadata = {}\n",
    "        for key, value in metadata.items():\n",
    "            if isinstance(value, list):\n",
    "                if not warned_about_list:\n",
    "                    print(\n",
    "                        \"List metadata detected. Skipping.\"\n",
    "                        \"Metadata values for Chroma must be str, int, float or bool.\"\n",
    "                    )\n",
    "                    warned_about_list = True\n",
    "                continue\n",
    "            else:\n",
    "                filtered_metadata[key] = value\n",
    "    filtered_metadatas.append(filtered_metadata)\n",
    "\n",
    "    return filtered_metadatas\n",
    "\n",
    "\n",
    "\n",
    "\n",
    "\n",
    "# def test_filter_list_metadata(caplog):\n",
    "#     metadata = [\n",
    "#         {\"key1\": \"this is a string!\", \"key2\": [\"a\", \"list\", \"of\", \"strings\"]},\n",
    "#         {\n",
    "#             \"key1\": \"this is another string!\",\n",
    "#             \"key2\": [\"another\", \"list\", \"of\", \"strings\"],\n",
    "#         },\n",
    "#     ]\n",
    "\n",
    "#     filtered_metadata = _filter_list_metadata(metadata)\n",
    "#     assert filtered_metadata == [\n",
    "#         {\"key1\": \"this is a string!\"},\n",
    "#         {\"key1\": \"this is another string!\"},\n",
    "#     ]\n",
    "#     assert \"List metadata detected. Skipping.\" in caplog.text\n",
    "\n",
    "def test_filter_list_metadata() -> None:\n",
    "    metadata = [\n",
    "        {\"key1\": \"this is a string!\", \"key2\": [\"a\", \"list\", \"of\", \"strings\"]},\n",
    "        {\n",
    "            \"key1\": \"this is another string!\",\n",
    "            \"key2\": [\"another\", \"list\", \"of\", \"strings\"],\n",
    "        },\n",
    "    ]\n",
    "    filtered_metadata = _filter_list_metadata(metadata)\n",
    "    print('filtered')\n",
    "    print(filtered_metadata)\n",
    "    assert filtered_metadata == [\n",
    "        {\"key1\": \"this is a string!\"},\n",
    "        {\"key1\": \"this is another string!\"},\n",
    "    ]\n",
    "    assert \"List metadata detected. Skipping.\"\n",
    "test_filter_list_metadata()"
   ]
  },
  {
   "cell_type": "code",
   "execution_count": 28,
   "metadata": {},
   "outputs": [
    {
     "name": "stdout",
     "output_type": "stream",
     "text": [
      "In the whisper of dawn, the world awakes,  \n",
      "A gentle breeze on the lake softly breaks.  \n",
      "Golden rays kiss the dew-kissed ground,  \n",
      "Nature's quiet symphony, a soft, sweet sound.  \n",
      "\n",
      "The flowers bloom with gentle grace,  \n",
      "Painting the earth with a vibrant embrace.  \n",
      "Time softly ticks as stars fade from sight,  \n",
      "Giving way to the warmth and light.  \n",
      "\n",
      "In each moment, a poem spoken,  \n",
      "In every heart, a promise unbroken.  \n",
      "Life's beauty dances in the quiet and small,  \n",
      "In whispered moments, perhaps, most of all.  \n"
     ]
    }
   ],
   "source": [
    "response = client.chat.completions.create(\n",
    "    model=\"openai.gpt-4o-mini\",\n",
    "    messages=[\n",
    "        {\"role\": \"user\", \"content\":\"this is a test request, write a short poem\"}\n",
    "    ]\n",
    "    )\n",
    "print (response.choices[0].message.content)"
   ]
  },
  {
   "cell_type": "code",
   "execution_count": 24,
   "metadata": {},
   "outputs": [
    {
     "data": {
      "text/plain": [
       "'In the quiet of the night,  \\nStars weave tales of dreams in flight,  \\nWhispers dance on breezy air,  \\nHopes and wishes, light as prayer.  \\n\\nMoonlight drapes the world in sheen,  \\nPainting shadows, soft and keen,  \\nIn this moment, all feels right,  \\nHearts united, pure delight.  '"
      ]
     },
     "execution_count": 24,
     "metadata": {},
     "output_type": "execute_result"
    }
   ],
   "source": [
    "response.choices[0].message.content"
   ]
  },
  {
   "cell_type": "code",
   "execution_count": null,
   "metadata": {},
   "outputs": [],
   "source": []
  },
  {
   "cell_type": "code",
   "execution_count": 25,
   "metadata": {},
   "outputs": [],
   "source": [
    "\n",
    "response = client.chat.completions.create(\n",
    "        model='gpt-4o',\n",
    "        messages=[\n",
    "            {\n",
    "                \"role\": \"user\",\n",
    "                \"content\": \"tell me more\",\n",
    "            },\n",
    "        ]\n",
    "        )"
   ]
  },
  {
   "cell_type": "code",
   "execution_count": null,
   "metadata": {},
   "outputs": [],
   "source": [
    "response.choices[0].message.content"
   ]
  },
  {
   "cell_type": "code",
   "execution_count": null,
   "metadata": {},
   "outputs": [],
   "source": []
  }
 ],
 "metadata": {
  "kernelspec": {
   "display_name": "Python 3",
   "language": "python",
   "name": "python3"
  },
  "language_info": {
   "codemirror_mode": {
    "name": "ipython",
    "version": 3
   },
   "file_extension": ".py",
   "mimetype": "text/x-python",
   "name": "python",
   "nbconvert_exporter": "python",
   "pygments_lexer": "ipython3",
   "version": "3.13.3"
  }
 },
 "nbformat": 4,
 "nbformat_minor": 2
}
